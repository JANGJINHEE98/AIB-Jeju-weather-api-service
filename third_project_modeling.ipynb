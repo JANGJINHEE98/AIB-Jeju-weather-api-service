{
  "nbformat": 4,
  "nbformat_minor": 0,
  "metadata": {
    "colab": {
      "name": "third_project_modeling.ipynb",
      "provenance": [],
      "collapsed_sections": [],
      "toc_visible": true,
      "authorship_tag": "ABX9TyO8SPYkSmZkPgZOPgMByFMM",
      "include_colab_link": true
    },
    "kernelspec": {
      "name": "python3",
      "display_name": "Python 3"
    },
    "language_info": {
      "name": "python"
    }
  },
  "cells": [
    {
      "cell_type": "markdown",
      "metadata": {
        "id": "view-in-github",
        "colab_type": "text"
      },
      "source": [
        "<a href=\"https://colab.research.google.com/github/JANGJINHEE98/AIB-Jeju-weather-api-service/blob/main/third_project_modeling.ipynb\" target=\"_parent\"><img src=\"https://colab.research.google.com/assets/colab-badge.svg\" alt=\"Open In Colab\"/></a>"
      ]
    },
    {
      "cell_type": "markdown",
      "metadata": {
        "id": "oFv_PHl1EfMn"
      },
      "source": [
        "# 📌 전처리, 모델링 작업은 colab에서 수행했습니다. "
      ]
    },
    {
      "cell_type": "markdown",
      "metadata": {
        "id": "BibMBkUtErrY"
      },
      "source": [
        "## ✔️ 전처리"
      ]
    },
    {
      "cell_type": "code",
      "metadata": {
        "id": "WqUjlE4ipwOT"
      },
      "source": [
        "import pandas as pd\n",
        "from pandas import Series, DataFrame\n",
        "import sqlite3\n",
        "import datetime"
      ],
      "execution_count": 30,
      "outputs": []
    },
    {
      "cell_type": "code",
      "metadata": {
        "id": "hzGJ8d6dp7Hc"
      },
      "source": [
        "con = sqlite3.connect(\"/content/last_db.db\")\n",
        "cur = con.cursor()\n",
        "weather_df = pd.read_sql(\"SELECT * FROM weather\", con, index_col=None)\n",
        "airport_df = pd.read_sql(\"SELECT * FROM airport\", con, index_col=None)"
      ],
      "execution_count": 31,
      "outputs": []
    },
    {
      "cell_type": "code",
      "metadata": {
        "colab": {
          "base_uri": "https://localhost:8080/",
          "height": 224
        },
        "id": "Jo8HkwOFsEuN",
        "outputId": "df12fb86-58e2-407a-eee6-96c7bb9d8dc3"
      },
      "source": [
        "weather_df.head()"
      ],
      "execution_count": 32,
      "outputs": [
        {
          "output_type": "execute_result",
          "data": {
            "text/html": [
              "<div>\n",
              "<style scoped>\n",
              "    .dataframe tbody tr th:only-of-type {\n",
              "        vertical-align: middle;\n",
              "    }\n",
              "\n",
              "    .dataframe tbody tr th {\n",
              "        vertical-align: top;\n",
              "    }\n",
              "\n",
              "    .dataframe thead th {\n",
              "        text-align: right;\n",
              "    }\n",
              "</style>\n",
              "<table border=\"1\" class=\"dataframe\">\n",
              "  <thead>\n",
              "    <tr style=\"text-align: right;\">\n",
              "      <th></th>\n",
              "      <th>index</th>\n",
              "      <th>observatoryName</th>\n",
              "      <th>baseDate</th>\n",
              "      <th>averageTemperature</th>\n",
              "      <th>lowestTemperature</th>\n",
              "      <th>lowestTemperatureTime</th>\n",
              "      <th>highestTemperature</th>\n",
              "      <th>highestTemperatureTime</th>\n",
              "      <th>dailyRainfall</th>\n",
              "      <th>maximumWindSpeed</th>\n",
              "      <th>maximumWindSpeedTime</th>\n",
              "      <th>averageWindSpeed</th>\n",
              "      <th>maximumWindSpeedDirection</th>\n",
              "    </tr>\n",
              "  </thead>\n",
              "  <tbody>\n",
              "    <tr>\n",
              "      <th>0</th>\n",
              "      <td>0</td>\n",
              "      <td>우도</td>\n",
              "      <td>20191231</td>\n",
              "      <td>2.6000</td>\n",
              "      <td>1.2000</td>\n",
              "      <td>2126</td>\n",
              "      <td>6.7000</td>\n",
              "      <td>7</td>\n",
              "      <td>0.0000</td>\n",
              "      <td>23.1000</td>\n",
              "      <td>414</td>\n",
              "      <td>12.2000</td>\n",
              "      <td>288.0000</td>\n",
              "    </tr>\n",
              "    <tr>\n",
              "      <th>1</th>\n",
              "      <td>1</td>\n",
              "      <td>우도</td>\n",
              "      <td>20191230</td>\n",
              "      <td>11.7000</td>\n",
              "      <td>6.4000</td>\n",
              "      <td>2337</td>\n",
              "      <td>14.1000</td>\n",
              "      <td>59</td>\n",
              "      <td>0.0000</td>\n",
              "      <td>19.7000</td>\n",
              "      <td>2321</td>\n",
              "      <td>8.8000</td>\n",
              "      <td>291.4000</td>\n",
              "    </tr>\n",
              "    <tr>\n",
              "      <th>2</th>\n",
              "      <td>2</td>\n",
              "      <td>우도</td>\n",
              "      <td>20191229</td>\n",
              "      <td>12.7000</td>\n",
              "      <td>8.5000</td>\n",
              "      <td>2</td>\n",
              "      <td>15.6000</td>\n",
              "      <td>1933</td>\n",
              "      <td>33.0000</td>\n",
              "      <td>12.1000</td>\n",
              "      <td>1738</td>\n",
              "      <td>5.5000</td>\n",
              "      <td>113.3000</td>\n",
              "    </tr>\n",
              "    <tr>\n",
              "      <th>3</th>\n",
              "      <td>3</td>\n",
              "      <td>우도</td>\n",
              "      <td>20191228</td>\n",
              "      <td>7.7000</td>\n",
              "      <td>6.1000</td>\n",
              "      <td>5</td>\n",
              "      <td>9.6000</td>\n",
              "      <td>1251</td>\n",
              "      <td>0.0000</td>\n",
              "      <td>10.5000</td>\n",
              "      <td>203</td>\n",
              "      <td>3.4000</td>\n",
              "      <td>321.9000</td>\n",
              "    </tr>\n",
              "    <tr>\n",
              "      <th>4</th>\n",
              "      <td>4</td>\n",
              "      <td>우도</td>\n",
              "      <td>20191227</td>\n",
              "      <td>6.4000</td>\n",
              "      <td>5.7000</td>\n",
              "      <td>320</td>\n",
              "      <td>7.3000</td>\n",
              "      <td>8</td>\n",
              "      <td>0.0000</td>\n",
              "      <td>20.5000</td>\n",
              "      <td>24</td>\n",
              "      <td>9.7000</td>\n",
              "      <td>295.5000</td>\n",
              "    </tr>\n",
              "  </tbody>\n",
              "</table>\n",
              "</div>"
            ],
            "text/plain": [
              "   index observatoryName  ... averageWindSpeed maximumWindSpeedDirection\n",
              "0      0              우도  ...          12.2000                  288.0000\n",
              "1      1              우도  ...           8.8000                  291.4000\n",
              "2      2              우도  ...           5.5000                  113.3000\n",
              "3      3              우도  ...           3.4000                  321.9000\n",
              "4      4              우도  ...           9.7000                  295.5000\n",
              "\n",
              "[5 rows x 13 columns]"
            ]
          },
          "metadata": {},
          "execution_count": 32
        }
      ]
    },
    {
      "cell_type": "code",
      "metadata": {
        "colab": {
          "base_uri": "https://localhost:8080/",
          "height": 204
        },
        "id": "9UrBMqQ0sHjj",
        "outputId": "d56956b0-7bd9-436b-a91a-83ee2c404102"
      },
      "source": [
        "airport_df.head()"
      ],
      "execution_count": 33,
      "outputs": [
        {
          "output_type": "execute_result",
          "data": {
            "text/html": [
              "<div>\n",
              "<style scoped>\n",
              "    .dataframe tbody tr th:only-of-type {\n",
              "        vertical-align: middle;\n",
              "    }\n",
              "\n",
              "    .dataframe tbody tr th {\n",
              "        vertical-align: top;\n",
              "    }\n",
              "\n",
              "    .dataframe thead th {\n",
              "        text-align: right;\n",
              "    }\n",
              "</style>\n",
              "<table border=\"1\" class=\"dataframe\">\n",
              "  <thead>\n",
              "    <tr style=\"text-align: right;\">\n",
              "      <th></th>\n",
              "      <th>index</th>\n",
              "      <th>airport</th>\n",
              "      <th>date</th>\n",
              "      <th>pcg</th>\n",
              "      <th>pct</th>\n",
              "      <th>tof</th>\n",
              "    </tr>\n",
              "  </thead>\n",
              "  <tbody>\n",
              "    <tr>\n",
              "      <th>0</th>\n",
              "      <td>0</td>\n",
              "      <td>CJU</td>\n",
              "      <td>20191231</td>\n",
              "      <td>0</td>\n",
              "      <td>913</td>\n",
              "      <td>I</td>\n",
              "    </tr>\n",
              "    <tr>\n",
              "      <th>1</th>\n",
              "      <td>1</td>\n",
              "      <td>CJU</td>\n",
              "      <td>20191230</td>\n",
              "      <td>0</td>\n",
              "      <td>967</td>\n",
              "      <td>I</td>\n",
              "    </tr>\n",
              "    <tr>\n",
              "      <th>2</th>\n",
              "      <td>2</td>\n",
              "      <td>CJU</td>\n",
              "      <td>20191229</td>\n",
              "      <td>0</td>\n",
              "      <td>998</td>\n",
              "      <td>I</td>\n",
              "    </tr>\n",
              "    <tr>\n",
              "      <th>3</th>\n",
              "      <td>3</td>\n",
              "      <td>CJU</td>\n",
              "      <td>20191228</td>\n",
              "      <td>0</td>\n",
              "      <td>865</td>\n",
              "      <td>I</td>\n",
              "    </tr>\n",
              "    <tr>\n",
              "      <th>4</th>\n",
              "      <td>4</td>\n",
              "      <td>CJU</td>\n",
              "      <td>20191227</td>\n",
              "      <td>0</td>\n",
              "      <td>801</td>\n",
              "      <td>I</td>\n",
              "    </tr>\n",
              "  </tbody>\n",
              "</table>\n",
              "</div>"
            ],
            "text/plain": [
              "   index airport      date pcg  pct tof\n",
              "0      0     CJU  20191231   0  913   I\n",
              "1      1     CJU  20191230   0  967   I\n",
              "2      2     CJU  20191229   0  998   I\n",
              "3      3     CJU  20191228   0  865   I\n",
              "4      4     CJU  20191227   0  801   I"
            ]
          },
          "metadata": {},
          "execution_count": 33
        }
      ]
    },
    {
      "cell_type": "code",
      "metadata": {
        "colab": {
          "base_uri": "https://localhost:8080/",
          "height": 49
        },
        "id": "u4SI86iVh8VL",
        "outputId": "ddbd40df-2584-42b9-8f21-5a8564f52a4e"
      },
      "source": [
        "airport_df[airport_df['tof'] == 'D']"
      ],
      "execution_count": 34,
      "outputs": [
        {
          "output_type": "execute_result",
          "data": {
            "text/html": [
              "<div>\n",
              "<style scoped>\n",
              "    .dataframe tbody tr th:only-of-type {\n",
              "        vertical-align: middle;\n",
              "    }\n",
              "\n",
              "    .dataframe tbody tr th {\n",
              "        vertical-align: top;\n",
              "    }\n",
              "\n",
              "    .dataframe thead th {\n",
              "        text-align: right;\n",
              "    }\n",
              "</style>\n",
              "<table border=\"1\" class=\"dataframe\">\n",
              "  <thead>\n",
              "    <tr style=\"text-align: right;\">\n",
              "      <th></th>\n",
              "      <th>index</th>\n",
              "      <th>airport</th>\n",
              "      <th>date</th>\n",
              "      <th>pcg</th>\n",
              "      <th>pct</th>\n",
              "      <th>tof</th>\n",
              "    </tr>\n",
              "  </thead>\n",
              "  <tbody>\n",
              "  </tbody>\n",
              "</table>\n",
              "</div>"
            ],
            "text/plain": [
              "Empty DataFrame\n",
              "Columns: [index, airport, date, pcg, pct, tof]\n",
              "Index: []"
            ]
          },
          "metadata": {},
          "execution_count": 34
        }
      ]
    },
    {
      "cell_type": "code",
      "metadata": {
        "id": "I_ZJCPApfTi6"
      },
      "source": [
        "airport_df = airport_df.drop(['pcg', 'tof'], axis=1)"
      ],
      "execution_count": 35,
      "outputs": []
    },
    {
      "cell_type": "code",
      "metadata": {
        "id": "5k3dxXylsjzl"
      },
      "source": [
        "weather_df = weather_df.drop(['observatoryName', 'index'], axis=1)\n",
        "airport_df = airport_df.drop(['airport', 'index'], axis=1)"
      ],
      "execution_count": 36,
      "outputs": []
    },
    {
      "cell_type": "code",
      "metadata": {
        "colab": {
          "base_uri": "https://localhost:8080/"
        },
        "id": "_n6rXZsBxlPZ",
        "outputId": "18c6bdf1-b2e8-4852-b87b-25a6993c903f"
      },
      "source": [
        "weather_df.columns"
      ],
      "execution_count": 37,
      "outputs": [
        {
          "output_type": "execute_result",
          "data": {
            "text/plain": [
              "Index(['baseDate', 'averageTemperature', 'lowestTemperature',\n",
              "       'lowestTemperatureTime', 'highestTemperature', 'highestTemperatureTime',\n",
              "       'dailyRainfall', 'maximumWindSpeed', 'maximumWindSpeedTime',\n",
              "       'averageWindSpeed', 'maximumWindSpeedDirection'],\n",
              "      dtype='object')"
            ]
          },
          "metadata": {},
          "execution_count": 37
        }
      ]
    },
    {
      "cell_type": "code",
      "metadata": {
        "colab": {
          "base_uri": "https://localhost:8080/"
        },
        "id": "ZP6xMxWMxpRL",
        "outputId": "f2a4d970-d85f-4709-a46c-9fdbf02f1419"
      },
      "source": [
        "airport_df.columns"
      ],
      "execution_count": 38,
      "outputs": [
        {
          "output_type": "execute_result",
          "data": {
            "text/plain": [
              "Index(['date', 'pct'], dtype='object')"
            ]
          },
          "metadata": {},
          "execution_count": 38
        }
      ]
    },
    {
      "cell_type": "code",
      "metadata": {
        "id": "miI43Bbvto4U"
      },
      "source": [
        "weather_df[['baseDate', 'averageTemperature', 'lowestTemperature', 'lowestTemperatureTime', 'highestTemperature', 'highestTemperatureTime', 'dailyRainfall', 'maximumWindSpeed', 'maximumWindSpeedTime','averageWindSpeed', 'maximumWindSpeedDirection']] = weather_df[['baseDate', 'averageTemperature', 'lowestTemperature', 'lowestTemperatureTime', 'highestTemperature', 'highestTemperatureTime', 'dailyRainfall', 'maximumWindSpeed', 'maximumWindSpeedTime', 'averageWindSpeed', 'maximumWindSpeedDirection']].apply(pd.to_numeric)"
      ],
      "execution_count": 39,
      "outputs": []
    },
    {
      "cell_type": "code",
      "metadata": {
        "colab": {
          "base_uri": "https://localhost:8080/",
          "height": 80
        },
        "id": "-n6Jg16tCYH1",
        "outputId": "558fed25-1d50-441b-fc0a-6f8b4c90b1d6"
      },
      "source": [
        "airport_df[airport_df['date'].isnull()]"
      ],
      "execution_count": 40,
      "outputs": [
        {
          "output_type": "execute_result",
          "data": {
            "text/html": [
              "<div>\n",
              "<style scoped>\n",
              "    .dataframe tbody tr th:only-of-type {\n",
              "        vertical-align: middle;\n",
              "    }\n",
              "\n",
              "    .dataframe tbody tr th {\n",
              "        vertical-align: top;\n",
              "    }\n",
              "\n",
              "    .dataframe thead th {\n",
              "        text-align: right;\n",
              "    }\n",
              "</style>\n",
              "<table border=\"1\" class=\"dataframe\">\n",
              "  <thead>\n",
              "    <tr style=\"text-align: right;\">\n",
              "      <th></th>\n",
              "      <th>date</th>\n",
              "      <th>pct</th>\n",
              "    </tr>\n",
              "  </thead>\n",
              "  <tbody>\n",
              "    <tr>\n",
              "      <th>718</th>\n",
              "      <td>None</td>\n",
              "      <td>None</td>\n",
              "    </tr>\n",
              "  </tbody>\n",
              "</table>\n",
              "</div>"
            ],
            "text/plain": [
              "     date   pct\n",
              "718  None  None"
            ]
          },
          "metadata": {},
          "execution_count": 40
        }
      ]
    },
    {
      "cell_type": "code",
      "metadata": {
        "colab": {
          "base_uri": "https://localhost:8080/"
        },
        "id": "3pB73ZeVC_gt",
        "outputId": "5e1c6fa8-6f4a-4b77-e241-c46143e7daef"
      },
      "source": [
        "airport_df.loc[717]"
      ],
      "execution_count": 41,
      "outputs": [
        {
          "output_type": "execute_result",
          "data": {
            "text/plain": [
              "date    20180113\n",
              "pct          353\n",
              "Name: 717, dtype: object"
            ]
          },
          "metadata": {},
          "execution_count": 41
        }
      ]
    },
    {
      "cell_type": "code",
      "metadata": {
        "colab": {
          "base_uri": "https://localhost:8080/"
        },
        "id": "Sb-UnUmmDTuq",
        "outputId": "68c1e08f-4658-4bf7-db79-af6d60d70322"
      },
      "source": [
        "airport_df.loc[719]"
      ],
      "execution_count": 42,
      "outputs": [
        {
          "output_type": "execute_result",
          "data": {
            "text/plain": [
              "date    20180111\n",
              "pct          173\n",
              "Name: 719, dtype: object"
            ]
          },
          "metadata": {},
          "execution_count": 42
        }
      ]
    },
    {
      "cell_type": "code",
      "metadata": {
        "id": "BUbReTZkDYrL"
      },
      "source": [
        "# 빠진 부분 메꿔넣기 ('20180112'가 들어가야 함)"
      ],
      "execution_count": 43,
      "outputs": []
    },
    {
      "cell_type": "code",
      "metadata": {
        "id": "s7lROAHnDmuV"
      },
      "source": [
        "airport_df.loc[718, 'date'] = '20180112'"
      ],
      "execution_count": 44,
      "outputs": []
    },
    {
      "cell_type": "code",
      "metadata": {
        "colab": {
          "base_uri": "https://localhost:8080/"
        },
        "id": "-8trOJB0EW5e",
        "outputId": "81ae6a97-2a2b-461d-8801-260ab9de6088"
      },
      "source": [
        "airport_df.loc[718]"
      ],
      "execution_count": 45,
      "outputs": [
        {
          "output_type": "execute_result",
          "data": {
            "text/plain": [
              "date    20180112\n",
              "pct         None\n",
              "Name: 718, dtype: object"
            ]
          },
          "metadata": {},
          "execution_count": 45
        }
      ]
    },
    {
      "cell_type": "code",
      "metadata": {
        "id": "nj6i2d_oyXkt"
      },
      "source": [
        "airport_df[['date', 'pct']] = airport_df[['date', 'pct']].apply(pd.to_numeric)"
      ],
      "execution_count": 46,
      "outputs": []
    },
    {
      "cell_type": "code",
      "metadata": {
        "id": "u-1DoPEJzYt1"
      },
      "source": [
        "weather_df.rename(columns = {'baseDate' : 'date'}, inplace = True)"
      ],
      "execution_count": 47,
      "outputs": []
    },
    {
      "cell_type": "code",
      "metadata": {
        "id": "1D6lSbok96sH"
      },
      "source": [
        "airport_df['day'] = pd.to_datetime(airport_df['date'], format=\"%Y%m%d\")"
      ],
      "execution_count": 48,
      "outputs": []
    },
    {
      "cell_type": "code",
      "metadata": {
        "id": "mRqtGhTmAEal"
      },
      "source": [
        "airport_df['day'] = airport_df['day'].dt.day_name()"
      ],
      "execution_count": 49,
      "outputs": []
    },
    {
      "cell_type": "code",
      "metadata": {
        "id": "GgEOheHoA2gk"
      },
      "source": [
        "df = pd.merge(weather_df, airport_df, on='date')"
      ],
      "execution_count": 50,
      "outputs": []
    },
    {
      "cell_type": "code",
      "metadata": {
        "id": "7L3Rjyk5FPCG"
      },
      "source": [
        "df = df.dropna(axis=0)"
      ],
      "execution_count": 51,
      "outputs": []
    },
    {
      "cell_type": "code",
      "metadata": {
        "colab": {
          "base_uri": "https://localhost:8080/"
        },
        "id": "YRjbs_4dFcZ5",
        "outputId": "f89d4b3e-788d-46fe-9ac5-0193fc6c144f"
      },
      "source": [
        "df.shape"
      ],
      "execution_count": 52,
      "outputs": [
        {
          "output_type": "execute_result",
          "data": {
            "text/plain": [
              "(870, 13)"
            ]
          },
          "metadata": {},
          "execution_count": 52
        }
      ]
    },
    {
      "cell_type": "code",
      "metadata": {
        "id": "V1Q1NZAiHt1l"
      },
      "source": [
        "df['datetime'] = pd.to_datetime(df['date'], format=\"%Y%m%d\")"
      ],
      "execution_count": 53,
      "outputs": []
    },
    {
      "cell_type": "code",
      "metadata": {
        "id": "f54_66VoVKpk"
      },
      "source": [
        "df['M'] = df['datetime'].dt.month"
      ],
      "execution_count": 54,
      "outputs": []
    },
    {
      "cell_type": "code",
      "metadata": {
        "id": "RzBQZeFWVPUm"
      },
      "source": [
        "df['D'] = df['datetime'].dt.day "
      ],
      "execution_count": 55,
      "outputs": []
    },
    {
      "cell_type": "code",
      "metadata": {
        "colab": {
          "base_uri": "https://localhost:8080/",
          "height": 292
        },
        "id": "JJbqagLHeUZx",
        "outputId": "fa406677-7d9c-40a5-f298-1efd2c4a2d80"
      },
      "source": [
        "df.head()"
      ],
      "execution_count": 56,
      "outputs": [
        {
          "output_type": "execute_result",
          "data": {
            "text/html": [
              "<div>\n",
              "<style scoped>\n",
              "    .dataframe tbody tr th:only-of-type {\n",
              "        vertical-align: middle;\n",
              "    }\n",
              "\n",
              "    .dataframe tbody tr th {\n",
              "        vertical-align: top;\n",
              "    }\n",
              "\n",
              "    .dataframe thead th {\n",
              "        text-align: right;\n",
              "    }\n",
              "</style>\n",
              "<table border=\"1\" class=\"dataframe\">\n",
              "  <thead>\n",
              "    <tr style=\"text-align: right;\">\n",
              "      <th></th>\n",
              "      <th>date</th>\n",
              "      <th>averageTemperature</th>\n",
              "      <th>lowestTemperature</th>\n",
              "      <th>lowestTemperatureTime</th>\n",
              "      <th>highestTemperature</th>\n",
              "      <th>highestTemperatureTime</th>\n",
              "      <th>dailyRainfall</th>\n",
              "      <th>maximumWindSpeed</th>\n",
              "      <th>maximumWindSpeedTime</th>\n",
              "      <th>averageWindSpeed</th>\n",
              "      <th>maximumWindSpeedDirection</th>\n",
              "      <th>pct</th>\n",
              "      <th>day</th>\n",
              "      <th>datetime</th>\n",
              "      <th>M</th>\n",
              "      <th>D</th>\n",
              "    </tr>\n",
              "  </thead>\n",
              "  <tbody>\n",
              "    <tr>\n",
              "      <th>0</th>\n",
              "      <td>20191231</td>\n",
              "      <td>2.6</td>\n",
              "      <td>1.2</td>\n",
              "      <td>2126.0</td>\n",
              "      <td>6.7</td>\n",
              "      <td>7.0</td>\n",
              "      <td>0.0</td>\n",
              "      <td>23.1</td>\n",
              "      <td>414.0</td>\n",
              "      <td>12.2</td>\n",
              "      <td>288.0</td>\n",
              "      <td>913.0</td>\n",
              "      <td>Tuesday</td>\n",
              "      <td>2019-12-31</td>\n",
              "      <td>12</td>\n",
              "      <td>31</td>\n",
              "    </tr>\n",
              "    <tr>\n",
              "      <th>1</th>\n",
              "      <td>20191230</td>\n",
              "      <td>11.7</td>\n",
              "      <td>6.4</td>\n",
              "      <td>2337.0</td>\n",
              "      <td>14.1</td>\n",
              "      <td>59.0</td>\n",
              "      <td>0.0</td>\n",
              "      <td>19.7</td>\n",
              "      <td>2321.0</td>\n",
              "      <td>8.8</td>\n",
              "      <td>291.4</td>\n",
              "      <td>967.0</td>\n",
              "      <td>Monday</td>\n",
              "      <td>2019-12-30</td>\n",
              "      <td>12</td>\n",
              "      <td>30</td>\n",
              "    </tr>\n",
              "    <tr>\n",
              "      <th>2</th>\n",
              "      <td>20191229</td>\n",
              "      <td>12.7</td>\n",
              "      <td>8.5</td>\n",
              "      <td>2.0</td>\n",
              "      <td>15.6</td>\n",
              "      <td>1933.0</td>\n",
              "      <td>33.0</td>\n",
              "      <td>12.1</td>\n",
              "      <td>1738.0</td>\n",
              "      <td>5.5</td>\n",
              "      <td>113.3</td>\n",
              "      <td>998.0</td>\n",
              "      <td>Sunday</td>\n",
              "      <td>2019-12-29</td>\n",
              "      <td>12</td>\n",
              "      <td>29</td>\n",
              "    </tr>\n",
              "    <tr>\n",
              "      <th>3</th>\n",
              "      <td>20191228</td>\n",
              "      <td>7.7</td>\n",
              "      <td>6.1</td>\n",
              "      <td>5.0</td>\n",
              "      <td>9.6</td>\n",
              "      <td>1251.0</td>\n",
              "      <td>0.0</td>\n",
              "      <td>10.5</td>\n",
              "      <td>203.0</td>\n",
              "      <td>3.4</td>\n",
              "      <td>321.9</td>\n",
              "      <td>865.0</td>\n",
              "      <td>Saturday</td>\n",
              "      <td>2019-12-28</td>\n",
              "      <td>12</td>\n",
              "      <td>28</td>\n",
              "    </tr>\n",
              "    <tr>\n",
              "      <th>4</th>\n",
              "      <td>20191227</td>\n",
              "      <td>6.4</td>\n",
              "      <td>5.7</td>\n",
              "      <td>320.0</td>\n",
              "      <td>7.3</td>\n",
              "      <td>8.0</td>\n",
              "      <td>0.0</td>\n",
              "      <td>20.5</td>\n",
              "      <td>24.0</td>\n",
              "      <td>9.7</td>\n",
              "      <td>295.5</td>\n",
              "      <td>801.0</td>\n",
              "      <td>Friday</td>\n",
              "      <td>2019-12-27</td>\n",
              "      <td>12</td>\n",
              "      <td>27</td>\n",
              "    </tr>\n",
              "  </tbody>\n",
              "</table>\n",
              "</div>"
            ],
            "text/plain": [
              "       date  averageTemperature  lowestTemperature  ...   datetime   M   D\n",
              "0  20191231                 2.6                1.2  ... 2019-12-31  12  31\n",
              "1  20191230                11.7                6.4  ... 2019-12-30  12  30\n",
              "2  20191229                12.7                8.5  ... 2019-12-29  12  29\n",
              "3  20191228                 7.7                6.1  ... 2019-12-28  12  28\n",
              "4  20191227                 6.4                5.7  ... 2019-12-27  12  27\n",
              "\n",
              "[5 rows x 16 columns]"
            ]
          },
          "metadata": {},
          "execution_count": 56
        }
      ]
    },
    {
      "cell_type": "code",
      "metadata": {
        "id": "Wt8Ts_Xz1peP"
      },
      "source": [
        "df['MD'] = df['date'].astype(str).str[4:]"
      ],
      "execution_count": 57,
      "outputs": []
    },
    {
      "cell_type": "code",
      "metadata": {
        "id": "7Mf743OAg2mT"
      },
      "source": [
        "df['pct'] = df['pct']*9"
      ],
      "execution_count": 58,
      "outputs": []
    },
    {
      "cell_type": "code",
      "metadata": {
        "colab": {
          "base_uri": "https://localhost:8080/",
          "height": 592
        },
        "id": "9dYGUwaHg9EH",
        "outputId": "35272211-6ed6-4f86-a9ff-f6eac5ccf2e1"
      },
      "source": [
        "df"
      ],
      "execution_count": 59,
      "outputs": [
        {
          "output_type": "execute_result",
          "data": {
            "text/html": [
              "<div>\n",
              "<style scoped>\n",
              "    .dataframe tbody tr th:only-of-type {\n",
              "        vertical-align: middle;\n",
              "    }\n",
              "\n",
              "    .dataframe tbody tr th {\n",
              "        vertical-align: top;\n",
              "    }\n",
              "\n",
              "    .dataframe thead th {\n",
              "        text-align: right;\n",
              "    }\n",
              "</style>\n",
              "<table border=\"1\" class=\"dataframe\">\n",
              "  <thead>\n",
              "    <tr style=\"text-align: right;\">\n",
              "      <th></th>\n",
              "      <th>date</th>\n",
              "      <th>averageTemperature</th>\n",
              "      <th>lowestTemperature</th>\n",
              "      <th>lowestTemperatureTime</th>\n",
              "      <th>highestTemperature</th>\n",
              "      <th>highestTemperatureTime</th>\n",
              "      <th>dailyRainfall</th>\n",
              "      <th>maximumWindSpeed</th>\n",
              "      <th>maximumWindSpeedTime</th>\n",
              "      <th>averageWindSpeed</th>\n",
              "      <th>maximumWindSpeedDirection</th>\n",
              "      <th>pct</th>\n",
              "      <th>day</th>\n",
              "      <th>datetime</th>\n",
              "      <th>M</th>\n",
              "      <th>D</th>\n",
              "      <th>MD</th>\n",
              "    </tr>\n",
              "  </thead>\n",
              "  <tbody>\n",
              "    <tr>\n",
              "      <th>0</th>\n",
              "      <td>20191231</td>\n",
              "      <td>2.6</td>\n",
              "      <td>1.2</td>\n",
              "      <td>2126.0</td>\n",
              "      <td>6.7</td>\n",
              "      <td>7.0</td>\n",
              "      <td>0.0</td>\n",
              "      <td>23.1</td>\n",
              "      <td>414.0</td>\n",
              "      <td>12.2</td>\n",
              "      <td>288.0</td>\n",
              "      <td>8217.0</td>\n",
              "      <td>Tuesday</td>\n",
              "      <td>2019-12-31</td>\n",
              "      <td>12</td>\n",
              "      <td>31</td>\n",
              "      <td>1231</td>\n",
              "    </tr>\n",
              "    <tr>\n",
              "      <th>1</th>\n",
              "      <td>20191230</td>\n",
              "      <td>11.7</td>\n",
              "      <td>6.4</td>\n",
              "      <td>2337.0</td>\n",
              "      <td>14.1</td>\n",
              "      <td>59.0</td>\n",
              "      <td>0.0</td>\n",
              "      <td>19.7</td>\n",
              "      <td>2321.0</td>\n",
              "      <td>8.8</td>\n",
              "      <td>291.4</td>\n",
              "      <td>8703.0</td>\n",
              "      <td>Monday</td>\n",
              "      <td>2019-12-30</td>\n",
              "      <td>12</td>\n",
              "      <td>30</td>\n",
              "      <td>1230</td>\n",
              "    </tr>\n",
              "    <tr>\n",
              "      <th>2</th>\n",
              "      <td>20191229</td>\n",
              "      <td>12.7</td>\n",
              "      <td>8.5</td>\n",
              "      <td>2.0</td>\n",
              "      <td>15.6</td>\n",
              "      <td>1933.0</td>\n",
              "      <td>33.0</td>\n",
              "      <td>12.1</td>\n",
              "      <td>1738.0</td>\n",
              "      <td>5.5</td>\n",
              "      <td>113.3</td>\n",
              "      <td>8982.0</td>\n",
              "      <td>Sunday</td>\n",
              "      <td>2019-12-29</td>\n",
              "      <td>12</td>\n",
              "      <td>29</td>\n",
              "      <td>1229</td>\n",
              "    </tr>\n",
              "    <tr>\n",
              "      <th>3</th>\n",
              "      <td>20191228</td>\n",
              "      <td>7.7</td>\n",
              "      <td>6.1</td>\n",
              "      <td>5.0</td>\n",
              "      <td>9.6</td>\n",
              "      <td>1251.0</td>\n",
              "      <td>0.0</td>\n",
              "      <td>10.5</td>\n",
              "      <td>203.0</td>\n",
              "      <td>3.4</td>\n",
              "      <td>321.9</td>\n",
              "      <td>7785.0</td>\n",
              "      <td>Saturday</td>\n",
              "      <td>2019-12-28</td>\n",
              "      <td>12</td>\n",
              "      <td>28</td>\n",
              "      <td>1228</td>\n",
              "    </tr>\n",
              "    <tr>\n",
              "      <th>4</th>\n",
              "      <td>20191227</td>\n",
              "      <td>6.4</td>\n",
              "      <td>5.7</td>\n",
              "      <td>320.0</td>\n",
              "      <td>7.3</td>\n",
              "      <td>8.0</td>\n",
              "      <td>0.0</td>\n",
              "      <td>20.5</td>\n",
              "      <td>24.0</td>\n",
              "      <td>9.7</td>\n",
              "      <td>295.5</td>\n",
              "      <td>7209.0</td>\n",
              "      <td>Friday</td>\n",
              "      <td>2019-12-27</td>\n",
              "      <td>12</td>\n",
              "      <td>27</td>\n",
              "      <td>1227</td>\n",
              "    </tr>\n",
              "    <tr>\n",
              "      <th>...</th>\n",
              "      <td>...</td>\n",
              "      <td>...</td>\n",
              "      <td>...</td>\n",
              "      <td>...</td>\n",
              "      <td>...</td>\n",
              "      <td>...</td>\n",
              "      <td>...</td>\n",
              "      <td>...</td>\n",
              "      <td>...</td>\n",
              "      <td>...</td>\n",
              "      <td>...</td>\n",
              "      <td>...</td>\n",
              "      <td>...</td>\n",
              "      <td>...</td>\n",
              "      <td>...</td>\n",
              "      <td>...</td>\n",
              "      <td>...</td>\n",
              "    </tr>\n",
              "    <tr>\n",
              "      <th>895</th>\n",
              "      <td>20170719</td>\n",
              "      <td>26.2</td>\n",
              "      <td>23.8</td>\n",
              "      <td>548.0</td>\n",
              "      <td>29.9</td>\n",
              "      <td>1358.0</td>\n",
              "      <td>0.0</td>\n",
              "      <td>4.9</td>\n",
              "      <td>1718.0</td>\n",
              "      <td>0.9</td>\n",
              "      <td>250.3</td>\n",
              "      <td>2547.0</td>\n",
              "      <td>Wednesday</td>\n",
              "      <td>2017-07-19</td>\n",
              "      <td>7</td>\n",
              "      <td>19</td>\n",
              "      <td>0719</td>\n",
              "    </tr>\n",
              "    <tr>\n",
              "      <th>896</th>\n",
              "      <td>20170718</td>\n",
              "      <td>25.5</td>\n",
              "      <td>23.5</td>\n",
              "      <td>648.0</td>\n",
              "      <td>27.3</td>\n",
              "      <td>852.0</td>\n",
              "      <td>55.5</td>\n",
              "      <td>7.3</td>\n",
              "      <td>1611.0</td>\n",
              "      <td>1.6</td>\n",
              "      <td>196.9</td>\n",
              "      <td>1791.0</td>\n",
              "      <td>Tuesday</td>\n",
              "      <td>2017-07-18</td>\n",
              "      <td>7</td>\n",
              "      <td>18</td>\n",
              "      <td>0718</td>\n",
              "    </tr>\n",
              "    <tr>\n",
              "      <th>897</th>\n",
              "      <td>20170717</td>\n",
              "      <td>27.6</td>\n",
              "      <td>26.8</td>\n",
              "      <td>523.0</td>\n",
              "      <td>29.3</td>\n",
              "      <td>1348.0</td>\n",
              "      <td>0.0</td>\n",
              "      <td>10.6</td>\n",
              "      <td>119.0</td>\n",
              "      <td>3.6</td>\n",
              "      <td>213.8</td>\n",
              "      <td>1620.0</td>\n",
              "      <td>Monday</td>\n",
              "      <td>2017-07-17</td>\n",
              "      <td>7</td>\n",
              "      <td>17</td>\n",
              "      <td>0717</td>\n",
              "    </tr>\n",
              "    <tr>\n",
              "      <th>898</th>\n",
              "      <td>20170716</td>\n",
              "      <td>28.0</td>\n",
              "      <td>26.6</td>\n",
              "      <td>1948.0</td>\n",
              "      <td>29.6</td>\n",
              "      <td>1226.0</td>\n",
              "      <td>0.0</td>\n",
              "      <td>11.6</td>\n",
              "      <td>316.0</td>\n",
              "      <td>4.7</td>\n",
              "      <td>219.4</td>\n",
              "      <td>1683.0</td>\n",
              "      <td>Sunday</td>\n",
              "      <td>2017-07-16</td>\n",
              "      <td>7</td>\n",
              "      <td>16</td>\n",
              "      <td>0716</td>\n",
              "    </tr>\n",
              "    <tr>\n",
              "      <th>899</th>\n",
              "      <td>20170715</td>\n",
              "      <td>27.5</td>\n",
              "      <td>26.8</td>\n",
              "      <td>437.0</td>\n",
              "      <td>28.7</td>\n",
              "      <td>1348.0</td>\n",
              "      <td>0.0</td>\n",
              "      <td>11.9</td>\n",
              "      <td>330.0</td>\n",
              "      <td>5.2</td>\n",
              "      <td>222.2</td>\n",
              "      <td>1692.0</td>\n",
              "      <td>Saturday</td>\n",
              "      <td>2017-07-15</td>\n",
              "      <td>7</td>\n",
              "      <td>15</td>\n",
              "      <td>0715</td>\n",
              "    </tr>\n",
              "  </tbody>\n",
              "</table>\n",
              "<p>870 rows × 17 columns</p>\n",
              "</div>"
            ],
            "text/plain": [
              "         date  averageTemperature  lowestTemperature  ...   M   D    MD\n",
              "0    20191231                 2.6                1.2  ...  12  31  1231\n",
              "1    20191230                11.7                6.4  ...  12  30  1230\n",
              "2    20191229                12.7                8.5  ...  12  29  1229\n",
              "3    20191228                 7.7                6.1  ...  12  28  1228\n",
              "4    20191227                 6.4                5.7  ...  12  27  1227\n",
              "..        ...                 ...                ...  ...  ..  ..   ...\n",
              "895  20170719                26.2               23.8  ...   7  19  0719\n",
              "896  20170718                25.5               23.5  ...   7  18  0718\n",
              "897  20170717                27.6               26.8  ...   7  17  0717\n",
              "898  20170716                28.0               26.6  ...   7  16  0716\n",
              "899  20170715                27.5               26.8  ...   7  15  0715\n",
              "\n",
              "[870 rows x 17 columns]"
            ]
          },
          "metadata": {},
          "execution_count": 59
        }
      ]
    },
    {
      "cell_type": "code",
      "metadata": {
        "id": "BhLg9QhlevKj"
      },
      "source": [
        "# con = sqlite3.connect(\"/content/last_db.db\")\n",
        "# cur = con.cursor()\n",
        "# df.to_sql('df_for_dashboard', con, if_exists='replace')"
      ],
      "execution_count": 60,
      "outputs": []
    },
    {
      "cell_type": "code",
      "metadata": {
        "id": "o2ifQA1HfFgC",
        "colab": {
          "base_uri": "https://localhost:8080/",
          "height": 762
        },
        "outputId": "15e58e61-4425-4882-a71a-a280788ffbab"
      },
      "source": [
        "# pd.read_sql(\"SELECT * FROM df_for_dashboard\", con, index_col=None)"
      ],
      "execution_count": 61,
      "outputs": [
        {
          "output_type": "execute_result",
          "data": {
            "text/html": [
              "<div>\n",
              "<style scoped>\n",
              "    .dataframe tbody tr th:only-of-type {\n",
              "        vertical-align: middle;\n",
              "    }\n",
              "\n",
              "    .dataframe tbody tr th {\n",
              "        vertical-align: top;\n",
              "    }\n",
              "\n",
              "    .dataframe thead th {\n",
              "        text-align: right;\n",
              "    }\n",
              "</style>\n",
              "<table border=\"1\" class=\"dataframe\">\n",
              "  <thead>\n",
              "    <tr style=\"text-align: right;\">\n",
              "      <th></th>\n",
              "      <th>index</th>\n",
              "      <th>date</th>\n",
              "      <th>averageTemperature</th>\n",
              "      <th>lowestTemperature</th>\n",
              "      <th>lowestTemperatureTime</th>\n",
              "      <th>highestTemperature</th>\n",
              "      <th>highestTemperatureTime</th>\n",
              "      <th>dailyRainfall</th>\n",
              "      <th>maximumWindSpeed</th>\n",
              "      <th>maximumWindSpeedTime</th>\n",
              "      <th>averageWindSpeed</th>\n",
              "      <th>maximumWindSpeedDirection</th>\n",
              "      <th>pct</th>\n",
              "      <th>day</th>\n",
              "      <th>datetime</th>\n",
              "      <th>M</th>\n",
              "      <th>D</th>\n",
              "      <th>MD</th>\n",
              "    </tr>\n",
              "  </thead>\n",
              "  <tbody>\n",
              "    <tr>\n",
              "      <th>0</th>\n",
              "      <td>0</td>\n",
              "      <td>20191231</td>\n",
              "      <td>2.6</td>\n",
              "      <td>1.2</td>\n",
              "      <td>2126.0</td>\n",
              "      <td>6.7</td>\n",
              "      <td>7.0</td>\n",
              "      <td>0.0</td>\n",
              "      <td>23.1</td>\n",
              "      <td>414.0</td>\n",
              "      <td>12.2</td>\n",
              "      <td>288.0</td>\n",
              "      <td>8217.0</td>\n",
              "      <td>Tuesday</td>\n",
              "      <td>2019-12-31 00:00:00</td>\n",
              "      <td>12</td>\n",
              "      <td>31</td>\n",
              "      <td>1231</td>\n",
              "    </tr>\n",
              "    <tr>\n",
              "      <th>1</th>\n",
              "      <td>1</td>\n",
              "      <td>20191230</td>\n",
              "      <td>11.7</td>\n",
              "      <td>6.4</td>\n",
              "      <td>2337.0</td>\n",
              "      <td>14.1</td>\n",
              "      <td>59.0</td>\n",
              "      <td>0.0</td>\n",
              "      <td>19.7</td>\n",
              "      <td>2321.0</td>\n",
              "      <td>8.8</td>\n",
              "      <td>291.4</td>\n",
              "      <td>8703.0</td>\n",
              "      <td>Monday</td>\n",
              "      <td>2019-12-30 00:00:00</td>\n",
              "      <td>12</td>\n",
              "      <td>30</td>\n",
              "      <td>1230</td>\n",
              "    </tr>\n",
              "    <tr>\n",
              "      <th>2</th>\n",
              "      <td>2</td>\n",
              "      <td>20191229</td>\n",
              "      <td>12.7</td>\n",
              "      <td>8.5</td>\n",
              "      <td>2.0</td>\n",
              "      <td>15.6</td>\n",
              "      <td>1933.0</td>\n",
              "      <td>33.0</td>\n",
              "      <td>12.1</td>\n",
              "      <td>1738.0</td>\n",
              "      <td>5.5</td>\n",
              "      <td>113.3</td>\n",
              "      <td>8982.0</td>\n",
              "      <td>Sunday</td>\n",
              "      <td>2019-12-29 00:00:00</td>\n",
              "      <td>12</td>\n",
              "      <td>29</td>\n",
              "      <td>1229</td>\n",
              "    </tr>\n",
              "    <tr>\n",
              "      <th>3</th>\n",
              "      <td>3</td>\n",
              "      <td>20191228</td>\n",
              "      <td>7.7</td>\n",
              "      <td>6.1</td>\n",
              "      <td>5.0</td>\n",
              "      <td>9.6</td>\n",
              "      <td>1251.0</td>\n",
              "      <td>0.0</td>\n",
              "      <td>10.5</td>\n",
              "      <td>203.0</td>\n",
              "      <td>3.4</td>\n",
              "      <td>321.9</td>\n",
              "      <td>7785.0</td>\n",
              "      <td>Saturday</td>\n",
              "      <td>2019-12-28 00:00:00</td>\n",
              "      <td>12</td>\n",
              "      <td>28</td>\n",
              "      <td>1228</td>\n",
              "    </tr>\n",
              "    <tr>\n",
              "      <th>4</th>\n",
              "      <td>4</td>\n",
              "      <td>20191227</td>\n",
              "      <td>6.4</td>\n",
              "      <td>5.7</td>\n",
              "      <td>320.0</td>\n",
              "      <td>7.3</td>\n",
              "      <td>8.0</td>\n",
              "      <td>0.0</td>\n",
              "      <td>20.5</td>\n",
              "      <td>24.0</td>\n",
              "      <td>9.7</td>\n",
              "      <td>295.5</td>\n",
              "      <td>7209.0</td>\n",
              "      <td>Friday</td>\n",
              "      <td>2019-12-27 00:00:00</td>\n",
              "      <td>12</td>\n",
              "      <td>27</td>\n",
              "      <td>1227</td>\n",
              "    </tr>\n",
              "    <tr>\n",
              "      <th>...</th>\n",
              "      <td>...</td>\n",
              "      <td>...</td>\n",
              "      <td>...</td>\n",
              "      <td>...</td>\n",
              "      <td>...</td>\n",
              "      <td>...</td>\n",
              "      <td>...</td>\n",
              "      <td>...</td>\n",
              "      <td>...</td>\n",
              "      <td>...</td>\n",
              "      <td>...</td>\n",
              "      <td>...</td>\n",
              "      <td>...</td>\n",
              "      <td>...</td>\n",
              "      <td>...</td>\n",
              "      <td>...</td>\n",
              "      <td>...</td>\n",
              "      <td>...</td>\n",
              "    </tr>\n",
              "    <tr>\n",
              "      <th>865</th>\n",
              "      <td>895</td>\n",
              "      <td>20170719</td>\n",
              "      <td>26.2</td>\n",
              "      <td>23.8</td>\n",
              "      <td>548.0</td>\n",
              "      <td>29.9</td>\n",
              "      <td>1358.0</td>\n",
              "      <td>0.0</td>\n",
              "      <td>4.9</td>\n",
              "      <td>1718.0</td>\n",
              "      <td>0.9</td>\n",
              "      <td>250.3</td>\n",
              "      <td>2547.0</td>\n",
              "      <td>Wednesday</td>\n",
              "      <td>2017-07-19 00:00:00</td>\n",
              "      <td>7</td>\n",
              "      <td>19</td>\n",
              "      <td>0719</td>\n",
              "    </tr>\n",
              "    <tr>\n",
              "      <th>866</th>\n",
              "      <td>896</td>\n",
              "      <td>20170718</td>\n",
              "      <td>25.5</td>\n",
              "      <td>23.5</td>\n",
              "      <td>648.0</td>\n",
              "      <td>27.3</td>\n",
              "      <td>852.0</td>\n",
              "      <td>55.5</td>\n",
              "      <td>7.3</td>\n",
              "      <td>1611.0</td>\n",
              "      <td>1.6</td>\n",
              "      <td>196.9</td>\n",
              "      <td>1791.0</td>\n",
              "      <td>Tuesday</td>\n",
              "      <td>2017-07-18 00:00:00</td>\n",
              "      <td>7</td>\n",
              "      <td>18</td>\n",
              "      <td>0718</td>\n",
              "    </tr>\n",
              "    <tr>\n",
              "      <th>867</th>\n",
              "      <td>897</td>\n",
              "      <td>20170717</td>\n",
              "      <td>27.6</td>\n",
              "      <td>26.8</td>\n",
              "      <td>523.0</td>\n",
              "      <td>29.3</td>\n",
              "      <td>1348.0</td>\n",
              "      <td>0.0</td>\n",
              "      <td>10.6</td>\n",
              "      <td>119.0</td>\n",
              "      <td>3.6</td>\n",
              "      <td>213.8</td>\n",
              "      <td>1620.0</td>\n",
              "      <td>Monday</td>\n",
              "      <td>2017-07-17 00:00:00</td>\n",
              "      <td>7</td>\n",
              "      <td>17</td>\n",
              "      <td>0717</td>\n",
              "    </tr>\n",
              "    <tr>\n",
              "      <th>868</th>\n",
              "      <td>898</td>\n",
              "      <td>20170716</td>\n",
              "      <td>28.0</td>\n",
              "      <td>26.6</td>\n",
              "      <td>1948.0</td>\n",
              "      <td>29.6</td>\n",
              "      <td>1226.0</td>\n",
              "      <td>0.0</td>\n",
              "      <td>11.6</td>\n",
              "      <td>316.0</td>\n",
              "      <td>4.7</td>\n",
              "      <td>219.4</td>\n",
              "      <td>1683.0</td>\n",
              "      <td>Sunday</td>\n",
              "      <td>2017-07-16 00:00:00</td>\n",
              "      <td>7</td>\n",
              "      <td>16</td>\n",
              "      <td>0716</td>\n",
              "    </tr>\n",
              "    <tr>\n",
              "      <th>869</th>\n",
              "      <td>899</td>\n",
              "      <td>20170715</td>\n",
              "      <td>27.5</td>\n",
              "      <td>26.8</td>\n",
              "      <td>437.0</td>\n",
              "      <td>28.7</td>\n",
              "      <td>1348.0</td>\n",
              "      <td>0.0</td>\n",
              "      <td>11.9</td>\n",
              "      <td>330.0</td>\n",
              "      <td>5.2</td>\n",
              "      <td>222.2</td>\n",
              "      <td>1692.0</td>\n",
              "      <td>Saturday</td>\n",
              "      <td>2017-07-15 00:00:00</td>\n",
              "      <td>7</td>\n",
              "      <td>15</td>\n",
              "      <td>0715</td>\n",
              "    </tr>\n",
              "  </tbody>\n",
              "</table>\n",
              "<p>870 rows × 18 columns</p>\n",
              "</div>"
            ],
            "text/plain": [
              "     index      date  averageTemperature  ...   M   D    MD\n",
              "0        0  20191231                 2.6  ...  12  31  1231\n",
              "1        1  20191230                11.7  ...  12  30  1230\n",
              "2        2  20191229                12.7  ...  12  29  1229\n",
              "3        3  20191228                 7.7  ...  12  28  1228\n",
              "4        4  20191227                 6.4  ...  12  27  1227\n",
              "..     ...       ...                 ...  ...  ..  ..   ...\n",
              "865    895  20170719                26.2  ...   7  19  0719\n",
              "866    896  20170718                25.5  ...   7  18  0718\n",
              "867    897  20170717                27.6  ...   7  17  0717\n",
              "868    898  20170716                28.0  ...   7  16  0716\n",
              "869    899  20170715                27.5  ...   7  15  0715\n",
              "\n",
              "[870 rows x 18 columns]"
            ]
          },
          "metadata": {},
          "execution_count": 61
        }
      ]
    },
    {
      "cell_type": "code",
      "metadata": {
        "id": "vQAyNXZoikVN"
      },
      "source": [
        "con.close()"
      ],
      "execution_count": 62,
      "outputs": []
    },
    {
      "cell_type": "code",
      "metadata": {
        "id": "iCDfTo3B30Ec"
      },
      "source": [
        "df_get_weather = df.drop(['date', 'pct', 'M', 'D'], axis=1)"
      ],
      "execution_count": null,
      "outputs": []
    },
    {
      "cell_type": "code",
      "metadata": {
        "id": "vv-U-iM9Vd1T"
      },
      "source": [
        "weather_predict = df_get_weather.groupby('MD').mean() # 데이터 베이스에 저장해야 할까? "
      ],
      "execution_count": null,
      "outputs": []
    },
    {
      "cell_type": "code",
      "metadata": {
        "id": "ON-5W2K146A-"
      },
      "source": [
        "# con = sqlite3.connect(\"/content/third_project_db.db\")\n",
        "# cur = con.cursor()\n",
        "# weather_predict.to_sql('weather_predict', con, if_exists='replace')"
      ],
      "execution_count": null,
      "outputs": []
    },
    {
      "cell_type": "code",
      "metadata": {
        "id": "m0YKsqCh5d4g"
      },
      "source": [
        "# 데이터가 잘 들어갔는지 확인 \n",
        "# pd.read_sql(\"SELECT * FROM weather_predict\", con, index_col=None)"
      ],
      "execution_count": null,
      "outputs": []
    },
    {
      "cell_type": "code",
      "metadata": {
        "id": "DvY_hu-h59cT"
      },
      "source": [
        "# con.close()"
      ],
      "execution_count": null,
      "outputs": []
    },
    {
      "cell_type": "code",
      "metadata": {
        "colab": {
          "base_uri": "https://localhost:8080/"
        },
        "id": "FLgOiM2jqb0l",
        "outputId": "36e2ec60-104f-445f-ee4d-721168e5a7e1"
      },
      "source": [
        " df.info()"
      ],
      "execution_count": null,
      "outputs": [
        {
          "output_type": "stream",
          "name": "stdout",
          "text": [
            "<class 'pandas.core.frame.DataFrame'>\n",
            "Int64Index: 870 entries, 0 to 899\n",
            "Data columns (total 17 columns):\n",
            " #   Column                     Non-Null Count  Dtype         \n",
            "---  ------                     --------------  -----         \n",
            " 0   date                       870 non-null    int64         \n",
            " 1   averageTemperature         870 non-null    float64       \n",
            " 2   lowestTemperature          870 non-null    float64       \n",
            " 3   lowestTemperatureTime      870 non-null    float64       \n",
            " 4   highestTemperature         870 non-null    float64       \n",
            " 5   highestTemperatureTime     870 non-null    float64       \n",
            " 6   dailyRainfall              870 non-null    float64       \n",
            " 7   maximumWindSpeed           870 non-null    float64       \n",
            " 8   maximumWindSpeedTime       870 non-null    float64       \n",
            " 9   averageWindSpeed           870 non-null    float64       \n",
            " 10  maximumWindSpeedDirection  870 non-null    float64       \n",
            " 11  pct                        870 non-null    float64       \n",
            " 12  day                        870 non-null    object        \n",
            " 13  datetime                   870 non-null    datetime64[ns]\n",
            " 14  M                          870 non-null    int64         \n",
            " 15  D                          870 non-null    int64         \n",
            " 16  MD                         870 non-null    object        \n",
            "dtypes: datetime64[ns](1), float64(11), int64(3), object(2)\n",
            "memory usage: 122.3+ KB\n"
          ]
        }
      ]
    },
    {
      "cell_type": "code",
      "metadata": {
        "id": "qBjwEQfLqkXb"
      },
      "source": [
        "df = df.drop(['datetime', 'date'], axis=1)"
      ],
      "execution_count": null,
      "outputs": []
    },
    {
      "cell_type": "code",
      "metadata": {
        "id": "Qzsm3OeKq1DR"
      },
      "source": [
        "df['MD'] = df['MD'].apply(pd.to_numeric)"
      ],
      "execution_count": null,
      "outputs": []
    },
    {
      "cell_type": "code",
      "metadata": {
        "colab": {
          "base_uri": "https://localhost:8080/"
        },
        "id": "zrpnFK8unMzf",
        "outputId": "153928eb-0a4d-4d18-f643-cbf5b863ddd6"
      },
      "source": [
        "pip install category_encoders"
      ],
      "execution_count": null,
      "outputs": [
        {
          "output_type": "stream",
          "name": "stdout",
          "text": [
            "Collecting category_encoders\n",
            "  Downloading category_encoders-2.2.2-py2.py3-none-any.whl (80 kB)\n",
            "\u001b[?25l\r\u001b[K     |████                            | 10 kB 24.0 MB/s eta 0:00:01\r\u001b[K     |████████▏                       | 20 kB 26.9 MB/s eta 0:00:01\r\u001b[K     |████████████▏                   | 30 kB 30.6 MB/s eta 0:00:01\r\u001b[K     |████████████████▎               | 40 kB 31.6 MB/s eta 0:00:01\r\u001b[K     |████████████████████▎           | 51 kB 34.3 MB/s eta 0:00:01\r\u001b[K     |████████████████████████▍       | 61 kB 36.4 MB/s eta 0:00:01\r\u001b[K     |████████████████████████████▍   | 71 kB 38.2 MB/s eta 0:00:01\r\u001b[K     |████████████████████████████████| 80 kB 8.4 MB/s \n",
            "\u001b[?25hRequirement already satisfied: scikit-learn>=0.20.0 in /usr/local/lib/python3.7/dist-packages (from category_encoders) (0.22.2.post1)\n",
            "Requirement already satisfied: pandas>=0.21.1 in /usr/local/lib/python3.7/dist-packages (from category_encoders) (1.1.5)\n",
            "Requirement already satisfied: patsy>=0.5.1 in /usr/local/lib/python3.7/dist-packages (from category_encoders) (0.5.2)\n",
            "Requirement already satisfied: numpy>=1.14.0 in /usr/local/lib/python3.7/dist-packages (from category_encoders) (1.19.5)\n",
            "Requirement already satisfied: scipy>=1.0.0 in /usr/local/lib/python3.7/dist-packages (from category_encoders) (1.4.1)\n",
            "Requirement already satisfied: statsmodels>=0.9.0 in /usr/local/lib/python3.7/dist-packages (from category_encoders) (0.10.2)\n",
            "Requirement already satisfied: python-dateutil>=2.7.3 in /usr/local/lib/python3.7/dist-packages (from pandas>=0.21.1->category_encoders) (2.8.2)\n",
            "Requirement already satisfied: pytz>=2017.2 in /usr/local/lib/python3.7/dist-packages (from pandas>=0.21.1->category_encoders) (2018.9)\n",
            "Requirement already satisfied: six in /usr/local/lib/python3.7/dist-packages (from patsy>=0.5.1->category_encoders) (1.15.0)\n",
            "Requirement already satisfied: joblib>=0.11 in /usr/local/lib/python3.7/dist-packages (from scikit-learn>=0.20.0->category_encoders) (1.0.1)\n",
            "Installing collected packages: category-encoders\n",
            "Successfully installed category-encoders-2.2.2\n"
          ]
        }
      ]
    },
    {
      "cell_type": "markdown",
      "metadata": {
        "id": "2Y7mHvx2E8jO"
      },
      "source": [
        "## ✔️ 모델링"
      ]
    },
    {
      "cell_type": "code",
      "metadata": {
        "id": "C3_7UXcf5VAI",
        "colab": {
          "base_uri": "https://localhost:8080/"
        },
        "outputId": "312b34f3-ebed-45ae-b14b-b69d625ab59b"
      },
      "source": [
        "#모델 학습 \n",
        "\n",
        "from sklearn.linear_model import LinearRegression\n",
        "from sklearn.model_selection import train_test_split\n",
        "from category_encoders import OneHotEncoder\n",
        "from sklearn.metrics import  mean_squared_error, mean_absolute_error, r2_score"
      ],
      "execution_count": null,
      "outputs": [
        {
          "output_type": "stream",
          "name": "stderr",
          "text": [
            "/usr/local/lib/python3.7/dist-packages/statsmodels/tools/_testing.py:19: FutureWarning: pandas.util.testing is deprecated. Use the functions in the public API at pandas.testing instead.\n",
            "  import pandas.util.testing as tm\n"
          ]
        }
      ]
    },
    {
      "cell_type": "code",
      "metadata": {
        "colab": {
          "base_uri": "https://localhost:8080/"
        },
        "id": "Hf4mAdwzls9f",
        "outputId": "4a147fce-c8f1-4535-a938-a5f367a1a32e"
      },
      "source": [
        "# ecoding \n",
        "encoder = OneHotEncoder(use_cat_names=True)\n",
        "encoder.fit(X = df)\n",
        "encoded_df = encoder.transform(df)"
      ],
      "execution_count": null,
      "outputs": [
        {
          "output_type": "stream",
          "name": "stderr",
          "text": [
            "/usr/local/lib/python3.7/dist-packages/category_encoders/utils.py:21: FutureWarning: is_categorical is deprecated and will be removed in a future version.  Use is_categorical_dtype instead\n",
            "  elif pd.api.types.is_categorical(cols):\n"
          ]
        }
      ]
    },
    {
      "cell_type": "code",
      "metadata": {
        "id": "-XeoOWd1gNJm"
      },
      "source": [
        "y = encoded_df['pct']\n",
        "x = encoded_df.drop('pct', axis=1)"
      ],
      "execution_count": null,
      "outputs": []
    },
    {
      "cell_type": "code",
      "metadata": {
        "id": "ALkh86Nx1b8o"
      },
      "source": [
        "# split\n",
        "X_train, X_test, y_train, y_test = train_test_split(x, y, test_size=0.1, shuffle=False, random_state=1004)"
      ],
      "execution_count": null,
      "outputs": []
    },
    {
      "cell_type": "code",
      "metadata": {
        "colab": {
          "base_uri": "https://localhost:8080/",
          "height": 439
        },
        "id": "_a8lhiE3V89l",
        "outputId": "53ab238e-84de-4372-815a-ad51a8664f4e"
      },
      "source": [
        "x"
      ],
      "execution_count": null,
      "outputs": [
        {
          "output_type": "execute_result",
          "data": {
            "text/html": [
              "<div>\n",
              "<style scoped>\n",
              "    .dataframe tbody tr th:only-of-type {\n",
              "        vertical-align: middle;\n",
              "    }\n",
              "\n",
              "    .dataframe tbody tr th {\n",
              "        vertical-align: top;\n",
              "    }\n",
              "\n",
              "    .dataframe thead th {\n",
              "        text-align: right;\n",
              "    }\n",
              "</style>\n",
              "<table border=\"1\" class=\"dataframe\">\n",
              "  <thead>\n",
              "    <tr style=\"text-align: right;\">\n",
              "      <th></th>\n",
              "      <th>averageTemperature</th>\n",
              "      <th>lowestTemperature</th>\n",
              "      <th>lowestTemperatureTime</th>\n",
              "      <th>highestTemperature</th>\n",
              "      <th>highestTemperatureTime</th>\n",
              "      <th>dailyRainfall</th>\n",
              "      <th>maximumWindSpeed</th>\n",
              "      <th>maximumWindSpeedTime</th>\n",
              "      <th>averageWindSpeed</th>\n",
              "      <th>maximumWindSpeedDirection</th>\n",
              "      <th>day_Tuesday</th>\n",
              "      <th>day_Monday</th>\n",
              "      <th>day_Sunday</th>\n",
              "      <th>day_Saturday</th>\n",
              "      <th>day_Friday</th>\n",
              "      <th>day_Thursday</th>\n",
              "      <th>day_Wednesday</th>\n",
              "      <th>M</th>\n",
              "      <th>D</th>\n",
              "      <th>MD</th>\n",
              "    </tr>\n",
              "  </thead>\n",
              "  <tbody>\n",
              "    <tr>\n",
              "      <th>0</th>\n",
              "      <td>2.6</td>\n",
              "      <td>1.2</td>\n",
              "      <td>2126.0</td>\n",
              "      <td>6.7</td>\n",
              "      <td>7.0</td>\n",
              "      <td>0.0</td>\n",
              "      <td>23.1</td>\n",
              "      <td>414.0</td>\n",
              "      <td>12.2</td>\n",
              "      <td>288.0</td>\n",
              "      <td>1</td>\n",
              "      <td>0</td>\n",
              "      <td>0</td>\n",
              "      <td>0</td>\n",
              "      <td>0</td>\n",
              "      <td>0</td>\n",
              "      <td>0</td>\n",
              "      <td>12</td>\n",
              "      <td>31</td>\n",
              "      <td>1231</td>\n",
              "    </tr>\n",
              "    <tr>\n",
              "      <th>1</th>\n",
              "      <td>11.7</td>\n",
              "      <td>6.4</td>\n",
              "      <td>2337.0</td>\n",
              "      <td>14.1</td>\n",
              "      <td>59.0</td>\n",
              "      <td>0.0</td>\n",
              "      <td>19.7</td>\n",
              "      <td>2321.0</td>\n",
              "      <td>8.8</td>\n",
              "      <td>291.4</td>\n",
              "      <td>0</td>\n",
              "      <td>1</td>\n",
              "      <td>0</td>\n",
              "      <td>0</td>\n",
              "      <td>0</td>\n",
              "      <td>0</td>\n",
              "      <td>0</td>\n",
              "      <td>12</td>\n",
              "      <td>30</td>\n",
              "      <td>1230</td>\n",
              "    </tr>\n",
              "    <tr>\n",
              "      <th>2</th>\n",
              "      <td>12.7</td>\n",
              "      <td>8.5</td>\n",
              "      <td>2.0</td>\n",
              "      <td>15.6</td>\n",
              "      <td>1933.0</td>\n",
              "      <td>33.0</td>\n",
              "      <td>12.1</td>\n",
              "      <td>1738.0</td>\n",
              "      <td>5.5</td>\n",
              "      <td>113.3</td>\n",
              "      <td>0</td>\n",
              "      <td>0</td>\n",
              "      <td>1</td>\n",
              "      <td>0</td>\n",
              "      <td>0</td>\n",
              "      <td>0</td>\n",
              "      <td>0</td>\n",
              "      <td>12</td>\n",
              "      <td>29</td>\n",
              "      <td>1229</td>\n",
              "    </tr>\n",
              "    <tr>\n",
              "      <th>3</th>\n",
              "      <td>7.7</td>\n",
              "      <td>6.1</td>\n",
              "      <td>5.0</td>\n",
              "      <td>9.6</td>\n",
              "      <td>1251.0</td>\n",
              "      <td>0.0</td>\n",
              "      <td>10.5</td>\n",
              "      <td>203.0</td>\n",
              "      <td>3.4</td>\n",
              "      <td>321.9</td>\n",
              "      <td>0</td>\n",
              "      <td>0</td>\n",
              "      <td>0</td>\n",
              "      <td>1</td>\n",
              "      <td>0</td>\n",
              "      <td>0</td>\n",
              "      <td>0</td>\n",
              "      <td>12</td>\n",
              "      <td>28</td>\n",
              "      <td>1228</td>\n",
              "    </tr>\n",
              "    <tr>\n",
              "      <th>4</th>\n",
              "      <td>6.4</td>\n",
              "      <td>5.7</td>\n",
              "      <td>320.0</td>\n",
              "      <td>7.3</td>\n",
              "      <td>8.0</td>\n",
              "      <td>0.0</td>\n",
              "      <td>20.5</td>\n",
              "      <td>24.0</td>\n",
              "      <td>9.7</td>\n",
              "      <td>295.5</td>\n",
              "      <td>0</td>\n",
              "      <td>0</td>\n",
              "      <td>0</td>\n",
              "      <td>0</td>\n",
              "      <td>1</td>\n",
              "      <td>0</td>\n",
              "      <td>0</td>\n",
              "      <td>12</td>\n",
              "      <td>27</td>\n",
              "      <td>1227</td>\n",
              "    </tr>\n",
              "    <tr>\n",
              "      <th>...</th>\n",
              "      <td>...</td>\n",
              "      <td>...</td>\n",
              "      <td>...</td>\n",
              "      <td>...</td>\n",
              "      <td>...</td>\n",
              "      <td>...</td>\n",
              "      <td>...</td>\n",
              "      <td>...</td>\n",
              "      <td>...</td>\n",
              "      <td>...</td>\n",
              "      <td>...</td>\n",
              "      <td>...</td>\n",
              "      <td>...</td>\n",
              "      <td>...</td>\n",
              "      <td>...</td>\n",
              "      <td>...</td>\n",
              "      <td>...</td>\n",
              "      <td>...</td>\n",
              "      <td>...</td>\n",
              "      <td>...</td>\n",
              "    </tr>\n",
              "    <tr>\n",
              "      <th>895</th>\n",
              "      <td>26.2</td>\n",
              "      <td>23.8</td>\n",
              "      <td>548.0</td>\n",
              "      <td>29.9</td>\n",
              "      <td>1358.0</td>\n",
              "      <td>0.0</td>\n",
              "      <td>4.9</td>\n",
              "      <td>1718.0</td>\n",
              "      <td>0.9</td>\n",
              "      <td>250.3</td>\n",
              "      <td>0</td>\n",
              "      <td>0</td>\n",
              "      <td>0</td>\n",
              "      <td>0</td>\n",
              "      <td>0</td>\n",
              "      <td>0</td>\n",
              "      <td>1</td>\n",
              "      <td>7</td>\n",
              "      <td>19</td>\n",
              "      <td>719</td>\n",
              "    </tr>\n",
              "    <tr>\n",
              "      <th>896</th>\n",
              "      <td>25.5</td>\n",
              "      <td>23.5</td>\n",
              "      <td>648.0</td>\n",
              "      <td>27.3</td>\n",
              "      <td>852.0</td>\n",
              "      <td>55.5</td>\n",
              "      <td>7.3</td>\n",
              "      <td>1611.0</td>\n",
              "      <td>1.6</td>\n",
              "      <td>196.9</td>\n",
              "      <td>1</td>\n",
              "      <td>0</td>\n",
              "      <td>0</td>\n",
              "      <td>0</td>\n",
              "      <td>0</td>\n",
              "      <td>0</td>\n",
              "      <td>0</td>\n",
              "      <td>7</td>\n",
              "      <td>18</td>\n",
              "      <td>718</td>\n",
              "    </tr>\n",
              "    <tr>\n",
              "      <th>897</th>\n",
              "      <td>27.6</td>\n",
              "      <td>26.8</td>\n",
              "      <td>523.0</td>\n",
              "      <td>29.3</td>\n",
              "      <td>1348.0</td>\n",
              "      <td>0.0</td>\n",
              "      <td>10.6</td>\n",
              "      <td>119.0</td>\n",
              "      <td>3.6</td>\n",
              "      <td>213.8</td>\n",
              "      <td>0</td>\n",
              "      <td>1</td>\n",
              "      <td>0</td>\n",
              "      <td>0</td>\n",
              "      <td>0</td>\n",
              "      <td>0</td>\n",
              "      <td>0</td>\n",
              "      <td>7</td>\n",
              "      <td>17</td>\n",
              "      <td>717</td>\n",
              "    </tr>\n",
              "    <tr>\n",
              "      <th>898</th>\n",
              "      <td>28.0</td>\n",
              "      <td>26.6</td>\n",
              "      <td>1948.0</td>\n",
              "      <td>29.6</td>\n",
              "      <td>1226.0</td>\n",
              "      <td>0.0</td>\n",
              "      <td>11.6</td>\n",
              "      <td>316.0</td>\n",
              "      <td>4.7</td>\n",
              "      <td>219.4</td>\n",
              "      <td>0</td>\n",
              "      <td>0</td>\n",
              "      <td>1</td>\n",
              "      <td>0</td>\n",
              "      <td>0</td>\n",
              "      <td>0</td>\n",
              "      <td>0</td>\n",
              "      <td>7</td>\n",
              "      <td>16</td>\n",
              "      <td>716</td>\n",
              "    </tr>\n",
              "    <tr>\n",
              "      <th>899</th>\n",
              "      <td>27.5</td>\n",
              "      <td>26.8</td>\n",
              "      <td>437.0</td>\n",
              "      <td>28.7</td>\n",
              "      <td>1348.0</td>\n",
              "      <td>0.0</td>\n",
              "      <td>11.9</td>\n",
              "      <td>330.0</td>\n",
              "      <td>5.2</td>\n",
              "      <td>222.2</td>\n",
              "      <td>0</td>\n",
              "      <td>0</td>\n",
              "      <td>0</td>\n",
              "      <td>1</td>\n",
              "      <td>0</td>\n",
              "      <td>0</td>\n",
              "      <td>0</td>\n",
              "      <td>7</td>\n",
              "      <td>15</td>\n",
              "      <td>715</td>\n",
              "    </tr>\n",
              "  </tbody>\n",
              "</table>\n",
              "<p>870 rows × 20 columns</p>\n",
              "</div>"
            ],
            "text/plain": [
              "     averageTemperature  lowestTemperature  lowestTemperatureTime  ...   M   D    MD\n",
              "0                   2.6                1.2                 2126.0  ...  12  31  1231\n",
              "1                  11.7                6.4                 2337.0  ...  12  30  1230\n",
              "2                  12.7                8.5                    2.0  ...  12  29  1229\n",
              "3                   7.7                6.1                    5.0  ...  12  28  1228\n",
              "4                   6.4                5.7                  320.0  ...  12  27  1227\n",
              "..                  ...                ...                    ...  ...  ..  ..   ...\n",
              "895                26.2               23.8                  548.0  ...   7  19   719\n",
              "896                25.5               23.5                  648.0  ...   7  18   718\n",
              "897                27.6               26.8                  523.0  ...   7  17   717\n",
              "898                28.0               26.6                 1948.0  ...   7  16   716\n",
              "899                27.5               26.8                  437.0  ...   7  15   715\n",
              "\n",
              "[870 rows x 20 columns]"
            ]
          },
          "metadata": {},
          "execution_count": 153
        }
      ]
    },
    {
      "cell_type": "code",
      "metadata": {
        "id": "4w-ukDuraAS0",
        "colab": {
          "base_uri": "https://localhost:8080/"
        },
        "outputId": "15699ebc-fdde-48ac-8242-4da489941033"
      },
      "source": [
        "x.shape"
      ],
      "execution_count": null,
      "outputs": [
        {
          "output_type": "execute_result",
          "data": {
            "text/plain": [
              "(870, 20)"
            ]
          },
          "metadata": {},
          "execution_count": 155
        }
      ]
    },
    {
      "cell_type": "code",
      "metadata": {
        "colab": {
          "base_uri": "https://localhost:8080/"
        },
        "id": "yrIu0FHIWFbv",
        "outputId": "0faea579-ee0b-47e4-c430-4e8609ca1c50"
      },
      "source": [
        "x.info()"
      ],
      "execution_count": null,
      "outputs": [
        {
          "output_type": "stream",
          "name": "stdout",
          "text": [
            "<class 'pandas.core.frame.DataFrame'>\n",
            "Int64Index: 870 entries, 0 to 899\n",
            "Data columns (total 20 columns):\n",
            " #   Column                     Non-Null Count  Dtype  \n",
            "---  ------                     --------------  -----  \n",
            " 0   averageTemperature         870 non-null    float64\n",
            " 1   lowestTemperature          870 non-null    float64\n",
            " 2   lowestTemperatureTime      870 non-null    float64\n",
            " 3   highestTemperature         870 non-null    float64\n",
            " 4   highestTemperatureTime     870 non-null    float64\n",
            " 5   dailyRainfall              870 non-null    float64\n",
            " 6   maximumWindSpeed           870 non-null    float64\n",
            " 7   maximumWindSpeedTime       870 non-null    float64\n",
            " 8   averageWindSpeed           870 non-null    float64\n",
            " 9   maximumWindSpeedDirection  870 non-null    float64\n",
            " 10  day_Tuesday                870 non-null    int64  \n",
            " 11  day_Monday                 870 non-null    int64  \n",
            " 12  day_Sunday                 870 non-null    int64  \n",
            " 13  day_Saturday               870 non-null    int64  \n",
            " 14  day_Friday                 870 non-null    int64  \n",
            " 15  day_Thursday               870 non-null    int64  \n",
            " 16  day_Wednesday              870 non-null    int64  \n",
            " 17  M                          870 non-null    int64  \n",
            " 18  D                          870 non-null    int64  \n",
            " 19  MD                         870 non-null    int64  \n",
            "dtypes: float64(10), int64(10)\n",
            "memory usage: 142.7 KB\n"
          ]
        }
      ]
    },
    {
      "cell_type": "code",
      "metadata": {
        "colab": {
          "base_uri": "https://localhost:8080/"
        },
        "id": "Bq2kA8Saf-Sz",
        "outputId": "df5a7bb2-b86e-41f9-f62b-941723d2e7d5"
      },
      "source": [
        "model = LinearRegression()\n",
        "model.fit(X_train, y_train)"
      ],
      "execution_count": null,
      "outputs": [
        {
          "output_type": "execute_result",
          "data": {
            "text/plain": [
              "LinearRegression(copy_X=True, fit_intercept=True, n_jobs=None, normalize=False)"
            ]
          },
          "metadata": {},
          "execution_count": 147
        }
      ]
    },
    {
      "cell_type": "code",
      "metadata": {
        "id": "_8DiIsWZsmvj"
      },
      "source": [
        "pred = model.predict(X_test)\n",
        "r2 = r2_score(y_test, pred)"
      ],
      "execution_count": null,
      "outputs": []
    },
    {
      "cell_type": "code",
      "metadata": {
        "colab": {
          "base_uri": "https://localhost:8080/"
        },
        "id": "RjBYQVYGvACn",
        "outputId": "5674a4a8-8b40-4bef-fd63-7170cee02173"
      },
      "source": [
        "r2"
      ],
      "execution_count": null,
      "outputs": [
        {
          "output_type": "execute_result",
          "data": {
            "text/plain": [
              "-60.0782078115402"
            ]
          },
          "metadata": {},
          "execution_count": 149
        }
      ]
    },
    {
      "cell_type": "code",
      "metadata": {
        "colab": {
          "base_uri": "https://localhost:8080/"
        },
        "id": "G_6f5gDevejm",
        "outputId": "1385b708-8c09-43de-82a8-6798c3915a3c"
      },
      "source": [
        "# 모델 저장 \n",
        "import pickle\n",
        "from sklearn.externals import joblib\n",
        "saved_model = pickle.dumps(model)"
      ],
      "execution_count": null,
      "outputs": [
        {
          "output_type": "stream",
          "name": "stderr",
          "text": [
            "/usr/local/lib/python3.7/dist-packages/sklearn/externals/joblib/__init__.py:15: FutureWarning: sklearn.externals.joblib is deprecated in 0.21 and will be removed in 0.23. Please import this functionality directly from joblib, which can be installed with: pip install joblib. If this warning is raised when loading pickled models, you may need to re-serialize those models with scikit-learn 0.21+.\n",
            "  warnings.warn(msg, category=FutureWarning)\n"
          ]
        }
      ]
    },
    {
      "cell_type": "code",
      "metadata": {
        "colab": {
          "base_uri": "https://localhost:8080/"
        },
        "id": "r0JlU6kC21cd",
        "outputId": "48d52154-6f9d-44e0-8468-a55abf382bf2"
      },
      "source": [
        "print(saved_model)"
      ],
      "execution_count": null,
      "outputs": [
        {
          "output_type": "stream",
          "name": "stdout",
          "text": [
            "b'\\x80\\x03csklearn.linear_model._base\\nLinearRegression\\nq\\x00)\\x81q\\x01}q\\x02(X\\r\\x00\\x00\\x00fit_interceptq\\x03\\x88X\\t\\x00\\x00\\x00normalizeq\\x04\\x89X\\x06\\x00\\x00\\x00copy_Xq\\x05\\x88X\\x06\\x00\\x00\\x00n_jobsq\\x06NX\\x05\\x00\\x00\\x00coef_q\\x07cnumpy.core.multiarray\\n_reconstruct\\nq\\x08cnumpy\\nndarray\\nq\\tK\\x00\\x85q\\nC\\x01bq\\x0b\\x87q\\x0cRq\\r(K\\x01K\\x14\\x85q\\x0ecnumpy\\ndtype\\nq\\x0fX\\x02\\x00\\x00\\x00f8q\\x10\\x89\\x88\\x87q\\x11Rq\\x12(K\\x03X\\x01\\x00\\x00\\x00<q\\x13NNNJ\\xff\\xff\\xff\\xffJ\\xff\\xff\\xff\\xffK\\x00tq\\x14b\\x89C\\xa0\\x1f\\x00!\\x8c\\xb1\\xa8-@]Fo\\xeaE\\x85\\xd9?\\xd2N4\\xc6g\\x87\\x89\\xbf\\xaf#h\\xc0\\xcd\\xd1\\xf1\\xbf\\xa4l\\x9f#\\x9f\\xcf\\x9e\\xbf\\xc2\\x1e\\xe4\\x95\\xe5u\\xe4?=\\xb7\\xec\"&_2\\xc0\\xb9\\x03S\\x13\\x8f\\xaf\\x88\\xbfoeO\\x06\"\\x1aM@\\xaa\\xef\\x9f\\xd4\\xd8\\x94\\xd2?\\xe3a\\x0cV\\x9b\\x98J\\xc0\\x13\\xf6\\xcf|[\"K\\xc0MS%\\x00\\xbf\\xe1^@J\\xb2\\xb2@\\xa9xS@\\xea4\\xa4\\xed\\xa4\\xefS\\xc0\\xba\\x1e\\x02\\xfa\\xe0{Q@`\\xc3\\xc7\\xe3(\\tU\\xc0V\\xcc0bk\\x00\\x85\\xbf|!\\xd7J\\xc0]\\xf0?@\\xebI\\xbd3\\'e\\xbfq\\x15tq\\x16bX\\t\\x00\\x00\\x00_residuesq\\x17h\\x08h\\tK\\x00\\x85q\\x18h\\x0b\\x87q\\x19Rq\\x1a(K\\x01K\\x00\\x85q\\x1bh\\x12\\x89C\\x00q\\x1ctq\\x1dbX\\x05\\x00\\x00\\x00rank_q\\x1eK\\x12X\\t\\x00\\x00\\x00singular_q\\x1fh\\x08h\\tK\\x00\\x85q h\\x0b\\x87q!Rq\"(K\\x01K\\x14\\x85q#h\\x12\\x89C\\xa0:\\x19\\x92\\x8e-k\\xd8@[&`\\xd3 {\\xd4@\\x90\\x1e\\xc8\\xd5T\\xed\\xc6@%\\x8bk\\x85}\\xa7\\xc3@\\xdb\\x7f\\xe0\\xd9\\xfd\\x0e\\xa8@I\\x92@\\x87\\xcdT|@\\xf9\\xa0\\x0c+\\xacot@\\xf7F\\xa1$z\\xa7n@\\xbc\\xcf]\\xea\\x1d\\xf4V@\\xaa\\xfe\\xda\\xe9\\xdc%C@Z\\xde\\x85\\x91\\x9a\\xea8@\\n\\xd0\\x1aX\\x87\\xa5%@q\\xb2\\x97s\\xdf-%@\\xd8\\xf1\\xf2\\x15\\x19$%@#\\x90\\x08R\\x96\\x17%@[y\\xac\\xc3\\xff\\xf4$@\\xfc\"\\xd6B\\xec\\xce$@\\xe8\\xc4\\xd8\\xfb6\\xae#@\\x1ded\\xfdU\\xaa2=\\x03\\x02\\x02\\xf9\\x7fj\\xe3<q$tq%bX\\n\\x00\\x00\\x00intercept_q&cnumpy.core.multiarray\\nscalar\\nq\\'h\\x12C\\x08\\x91\\x9bFt(\\x10x@q(\\x86q)Rq*X\\x10\\x00\\x00\\x00_sklearn_versionq+X\\x0c\\x00\\x00\\x000.22.2.post1q,ub.'\n"
          ]
        }
      ]
    },
    {
      "cell_type": "code",
      "metadata": {
        "colab": {
          "base_uri": "https://localhost:8080/"
        },
        "id": "W6MzqUNT23Fy",
        "outputId": "98d318c3-a0e4-4f70-b17b-89f77719744c"
      },
      "source": [
        "joblib.dump(model, 'pickled_model.pkl') "
      ],
      "execution_count": null,
      "outputs": [
        {
          "output_type": "execute_result",
          "data": {
            "text/plain": [
              "['pickled_model.pkl']"
            ]
          },
          "metadata": {},
          "execution_count": 152
        }
      ]
    }
  ]
}